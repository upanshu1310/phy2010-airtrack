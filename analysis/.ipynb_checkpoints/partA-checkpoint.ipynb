{
 "cells": [
  {
   "cell_type": "code",
   "execution_count": 18,
   "id": "1da201ed-19f5-43a4-9120-7f650af16444",
   "metadata": {},
   "outputs": [],
   "source": [
    "import numpy as np\n",
    "import pandas as pd\n",
    "import matplotlib.pyplot as plt\n",
    "import math"
   ]
  },
  {
   "cell_type": "code",
   "execution_count": 12,
   "id": "7cad36e5-a7d9-4d5b-8402-f6ab24f6671b",
   "metadata": {},
   "outputs": [],
   "source": [
    "df = pd.read_csv('partA/try1.csv')"
   ]
  },
  {
   "cell_type": "code",
   "execution_count": 7,
   "id": "8cb8c812-d8e9-463f-a43e-dd7b678b4e43",
   "metadata": {},
   "outputs": [],
   "source": [
    "names = {\n",
    "    't': 'Latest: Time (s)',\n",
    "    's1':'Latest: GateState 1',\n",
    "    's2':'Latest: GateState 2'\n",
    "}"
   ]
  },
  {
   "cell_type": "code",
   "execution_count": 13,
   "id": "fafc8957-af2a-4433-b847-ca8937e89332",
   "metadata": {},
   "outputs": [
    {
     "data": {
      "text/html": [
       "<div>\n",
       "<style scoped>\n",
       "    .dataframe tbody tr th:only-of-type {\n",
       "        vertical-align: middle;\n",
       "    }\n",
       "\n",
       "    .dataframe tbody tr th {\n",
       "        vertical-align: top;\n",
       "    }\n",
       "\n",
       "    .dataframe thead th {\n",
       "        text-align: right;\n",
       "    }\n",
       "</style>\n",
       "<table border=\"1\" class=\"dataframe\">\n",
       "  <thead>\n",
       "    <tr style=\"text-align: right;\">\n",
       "      <th></th>\n",
       "      <th>Latest: Time (s)</th>\n",
       "      <th>Latest: Volume (mL)</th>\n",
       "      <th>Latest: GateState 1</th>\n",
       "      <th>Latest: Distance 1 (m)</th>\n",
       "      <th>Latest: Velocity 1 (m/s)</th>\n",
       "      <th>Latest: Acceleration 1 (m/s²)</th>\n",
       "      <th>Latest: GateState 2</th>\n",
       "      <th>Latest: Distance 2 (m)</th>\n",
       "      <th>Latest: Velocity 2 (m/s)</th>\n",
       "      <th>Latest: Acceleration 2 (m/s²)</th>\n",
       "    </tr>\n",
       "  </thead>\n",
       "  <tbody>\n",
       "    <tr>\n",
       "      <th>0</th>\n",
       "      <td>8.825735</td>\n",
       "      <td>NaN</td>\n",
       "      <td>1.0</td>\n",
       "      <td>0.00</td>\n",
       "      <td>NaN</td>\n",
       "      <td>NaN</td>\n",
       "      <td>NaN</td>\n",
       "      <td>NaN</td>\n",
       "      <td>NaN</td>\n",
       "      <td>NaN</td>\n",
       "    </tr>\n",
       "    <tr>\n",
       "      <th>1</th>\n",
       "      <td>8.937442</td>\n",
       "      <td>NaN</td>\n",
       "      <td>0.0</td>\n",
       "      <td>NaN</td>\n",
       "      <td>NaN</td>\n",
       "      <td>NaN</td>\n",
       "      <td>NaN</td>\n",
       "      <td>NaN</td>\n",
       "      <td>NaN</td>\n",
       "      <td>NaN</td>\n",
       "    </tr>\n",
       "    <tr>\n",
       "      <th>2</th>\n",
       "      <td>9.056660</td>\n",
       "      <td>NaN</td>\n",
       "      <td>1.0</td>\n",
       "      <td>0.05</td>\n",
       "      <td>NaN</td>\n",
       "      <td>NaN</td>\n",
       "      <td>NaN</td>\n",
       "      <td>NaN</td>\n",
       "      <td>NaN</td>\n",
       "      <td>NaN</td>\n",
       "    </tr>\n",
       "    <tr>\n",
       "      <th>3</th>\n",
       "      <td>9.167104</td>\n",
       "      <td>NaN</td>\n",
       "      <td>0.0</td>\n",
       "      <td>NaN</td>\n",
       "      <td>NaN</td>\n",
       "      <td>NaN</td>\n",
       "      <td>NaN</td>\n",
       "      <td>NaN</td>\n",
       "      <td>NaN</td>\n",
       "      <td>NaN</td>\n",
       "    </tr>\n",
       "    <tr>\n",
       "      <th>4</th>\n",
       "      <td>10.612705</td>\n",
       "      <td>NaN</td>\n",
       "      <td>NaN</td>\n",
       "      <td>NaN</td>\n",
       "      <td>NaN</td>\n",
       "      <td>NaN</td>\n",
       "      <td>1.0</td>\n",
       "      <td>0.00</td>\n",
       "      <td>NaN</td>\n",
       "      <td>NaN</td>\n",
       "    </tr>\n",
       "    <tr>\n",
       "      <th>5</th>\n",
       "      <td>10.717746</td>\n",
       "      <td>NaN</td>\n",
       "      <td>NaN</td>\n",
       "      <td>NaN</td>\n",
       "      <td>NaN</td>\n",
       "      <td>NaN</td>\n",
       "      <td>0.0</td>\n",
       "      <td>NaN</td>\n",
       "      <td>NaN</td>\n",
       "      <td>NaN</td>\n",
       "    </tr>\n",
       "    <tr>\n",
       "      <th>6</th>\n",
       "      <td>10.842719</td>\n",
       "      <td>NaN</td>\n",
       "      <td>NaN</td>\n",
       "      <td>NaN</td>\n",
       "      <td>NaN</td>\n",
       "      <td>NaN</td>\n",
       "      <td>1.0</td>\n",
       "      <td>0.05</td>\n",
       "      <td>NaN</td>\n",
       "      <td>NaN</td>\n",
       "    </tr>\n",
       "    <tr>\n",
       "      <th>7</th>\n",
       "      <td>10.950392</td>\n",
       "      <td>NaN</td>\n",
       "      <td>NaN</td>\n",
       "      <td>NaN</td>\n",
       "      <td>NaN</td>\n",
       "      <td>NaN</td>\n",
       "      <td>0.0</td>\n",
       "      <td>NaN</td>\n",
       "      <td>NaN</td>\n",
       "      <td>NaN</td>\n",
       "    </tr>\n",
       "  </tbody>\n",
       "</table>\n",
       "</div>"
      ],
      "text/plain": [
       "   Latest: Time (s)  Latest: Volume (mL)  Latest: GateState 1  \\\n",
       "0          8.825735                  NaN                  1.0   \n",
       "1          8.937442                  NaN                  0.0   \n",
       "2          9.056660                  NaN                  1.0   \n",
       "3          9.167104                  NaN                  0.0   \n",
       "4         10.612705                  NaN                  NaN   \n",
       "5         10.717746                  NaN                  NaN   \n",
       "6         10.842719                  NaN                  NaN   \n",
       "7         10.950392                  NaN                  NaN   \n",
       "\n",
       "   Latest: Distance 1 (m)  Latest: Velocity 1 (m/s)  \\\n",
       "0                    0.00                       NaN   \n",
       "1                     NaN                       NaN   \n",
       "2                    0.05                       NaN   \n",
       "3                     NaN                       NaN   \n",
       "4                     NaN                       NaN   \n",
       "5                     NaN                       NaN   \n",
       "6                     NaN                       NaN   \n",
       "7                     NaN                       NaN   \n",
       "\n",
       "   Latest: Acceleration 1 (m/s²)  Latest: GateState 2  Latest: Distance 2 (m)  \\\n",
       "0                            NaN                  NaN                     NaN   \n",
       "1                            NaN                  NaN                     NaN   \n",
       "2                            NaN                  NaN                     NaN   \n",
       "3                            NaN                  NaN                     NaN   \n",
       "4                            NaN                  1.0                    0.00   \n",
       "5                            NaN                  0.0                     NaN   \n",
       "6                            NaN                  1.0                    0.05   \n",
       "7                            NaN                  0.0                     NaN   \n",
       "\n",
       "   Latest: Velocity 2 (m/s)  Latest: Acceleration 2 (m/s²)  \n",
       "0                       NaN                            NaN  \n",
       "1                       NaN                            NaN  \n",
       "2                       NaN                            NaN  \n",
       "3                       NaN                            NaN  \n",
       "4                       NaN                            NaN  \n",
       "5                       NaN                            NaN  \n",
       "6                       NaN                            NaN  \n",
       "7                       NaN                            NaN  "
      ]
     },
     "execution_count": 13,
     "metadata": {},
     "output_type": "execute_result"
    }
   ],
   "source": [
    "df"
   ]
  },
  {
   "cell_type": "code",
   "execution_count": 66,
   "id": "3e7ca3ad-a2fa-4768-a229-207e55b6b8ab",
   "metadata": {},
   "outputs": [],
   "source": [
    "times = []\n",
    "\n",
    "length = 1e-2\n",
    "for i in range(len(df.T.columns)-1):\n",
    "    # if not(math.isnan(df[names['s1']][i]) and math.isnan(df[names['s2']][i+1])):\n",
    "    times.append(df[names['t']][i+1]-df[names['t']][i])"
   ]
  },
  {
   "cell_type": "code",
   "execution_count": 67,
   "id": "73dc25a8-52b0-4800-8d1a-81c9f3481732",
   "metadata": {},
   "outputs": [
    {
     "data": {
      "text/plain": [
       "[0.11170700000000089,\n",
       " 0.11921800000000005,\n",
       " 0.11044399999999932,\n",
       " 1.445601,\n",
       " 0.10504099999999994,\n",
       " 0.12497300000000067,\n",
       " 0.10767300000000013]"
      ]
     },
     "execution_count": 67,
     "metadata": {},
     "output_type": "execute_result"
    }
   ],
   "source": [
    "times"
   ]
  },
  {
   "cell_type": "code",
   "execution_count": 74,
   "id": "198249da-b5da-464d-827a-b9b8f3abf8e0",
   "metadata": {},
   "outputs": [],
   "source": [
    "velocities = []\n",
    "for i in range(len(times)):\n",
    "    if not abs(times[i]) > 1:\n",
    "        velocities.append(length/times[i])"
   ]
  },
  {
   "cell_type": "code",
   "execution_count": 75,
   "id": "5528e1cd-61f1-476c-b21a-d0afb667fc80",
   "metadata": {},
   "outputs": [
    {
     "data": {
      "text/plain": [
       "[0.08951990475082064,\n",
       " 0.08387995101410858,\n",
       " 0.09054362391800426,\n",
       " 0.09520092154492062,\n",
       " 0.08001728373328597,\n",
       " 0.09287379380160289]"
      ]
     },
     "execution_count": 75,
     "metadata": {},
     "output_type": "execute_result"
    }
   ],
   "source": [
    "velocities"
   ]
  },
  {
   "cell_type": "code",
   "execution_count": 78,
   "id": "3ff59594-4882-4c52-a8c1-44e6e5954300",
   "metadata": {},
   "outputs": [
    {
     "data": {
      "image/png": "[encoded data removed]",
      "text/plain": [
       "<Figure size 640x480 with 1 Axes>"
      ]
     },
     "metadata": {},
     "output_type": "display_data"
    }
   ],
   "source": [
    "plt.scatter(range(len(velocities)),velocities)\n",
    "plt.xlabel('index')\n",
    "plt.ylabel('velocity (m/s)')\n",
    "plt.show()"
   ]
  },
  {
   "cell_type": "code",
   "execution_count": null,
   "id": "e3dfd28a-cce6-4a35-805e-3565463f13f4",
   "metadata": {},
   "outputs": [],
   "source": []
  }
 ],
 "metadata": {
  "kernelspec": {
   "display_name": "Python 3 (ipykernel)",
   "language": "python",
   "name": "python3"
  },
  "language_info": {
   "codemirror_mode": {
    "name": "ipython",
    "version": 3
   },
   "file_extension": ".py",
   "mimetype": "text/x-python",
   "name": "python",
   "nbconvert_exporter": "python",
   "pygments_lexer": "ipython3",
   "version": "3.10.13"
  }
 },
 "nbformat": 4,
 "nbformat_minor": 5
}
