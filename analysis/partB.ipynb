{
 "cells": [
  {
   "cell_type": "code",
   "execution_count": 3,
   "id": "65bf66c4-7910-4aa9-878a-21026776d243",
   "metadata": {},
   "outputs": [],
   "source": [
    "import numpy as np\n",
    "import pandas as pd\n",
    "import matplotlib.pyplot as plt\n",
    "import math\n",
    "\n",
    "names = {\n",
    "    't': 'Latest: Time (s)',\n",
    "    's1':'Latest: GateState 1',\n",
    "    's2':'Latest: GateState 2'\n",
    "}"
   ]
  },
  {
   "cell_type": "code",
   "execution_count": 4,
   "id": "b2b3d50e-f515-4d15-8d27-7a137ec048f3",
   "metadata": {},
   "outputs": [],
   "source": [
    "df = pd.read_csv('../data/partB/try5.csv')"
   ]
  },
  {
   "cell_type": "code",
   "execution_count": 5,
   "id": "707f805c-6f2b-4c85-801f-0dcb3278d39e",
   "metadata": {},
   "outputs": [
    {
     "data": {
      "text/html": [
       "<div>\n",
       "<style scoped>\n",
       "    .dataframe tbody tr th:only-of-type {\n",
       "        vertical-align: middle;\n",
       "    }\n",
       "\n",
       "    .dataframe tbody tr th {\n",
       "        vertical-align: top;\n",
       "    }\n",
       "\n",
       "    .dataframe thead th {\n",
       "        text-align: right;\n",
       "    }\n",
       "</style>\n",
       "<table border=\"1\" class=\"dataframe\">\n",
       "  <thead>\n",
       "    <tr style=\"text-align: right;\">\n",
       "      <th></th>\n",
       "      <th>Latest: Time (s)</th>\n",
       "      <th>Latest: GateState 1</th>\n",
       "      <th>Latest: Distance 1 (m)</th>\n",
       "      <th>Latest: Velocity 1 (m/s)</th>\n",
       "      <th>Latest: Acceleration 1 (m/s²)</th>\n",
       "      <th>Latest: GateState 2</th>\n",
       "      <th>Latest: Distance 2 (m)</th>\n",
       "      <th>Latest: Velocity 2 (m/s)</th>\n",
       "      <th>Latest: Acceleration 2 (m/s²)</th>\n",
       "    </tr>\n",
       "  </thead>\n",
       "  <tbody>\n",
       "    <tr>\n",
       "      <th>0</th>\n",
       "      <td>1.881494</td>\n",
       "      <td>1.0</td>\n",
       "      <td>0.00</td>\n",
       "      <td>NaN</td>\n",
       "      <td>NaN</td>\n",
       "      <td>NaN</td>\n",
       "      <td>NaN</td>\n",
       "      <td>NaN</td>\n",
       "      <td>NaN</td>\n",
       "    </tr>\n",
       "    <tr>\n",
       "      <th>1</th>\n",
       "      <td>1.888620</td>\n",
       "      <td>0.0</td>\n",
       "      <td>NaN</td>\n",
       "      <td>NaN</td>\n",
       "      <td>NaN</td>\n",
       "      <td>NaN</td>\n",
       "      <td>NaN</td>\n",
       "      <td>NaN</td>\n",
       "      <td>NaN</td>\n",
       "    </tr>\n",
       "    <tr>\n",
       "      <th>2</th>\n",
       "      <td>1.896879</td>\n",
       "      <td>1.0</td>\n",
       "      <td>0.05</td>\n",
       "      <td>NaN</td>\n",
       "      <td>NaN</td>\n",
       "      <td>NaN</td>\n",
       "      <td>NaN</td>\n",
       "      <td>NaN</td>\n",
       "      <td>NaN</td>\n",
       "    </tr>\n",
       "    <tr>\n",
       "      <th>3</th>\n",
       "      <td>1.903849</td>\n",
       "      <td>0.0</td>\n",
       "      <td>NaN</td>\n",
       "      <td>NaN</td>\n",
       "      <td>NaN</td>\n",
       "      <td>NaN</td>\n",
       "      <td>NaN</td>\n",
       "      <td>NaN</td>\n",
       "      <td>NaN</td>\n",
       "    </tr>\n",
       "    <tr>\n",
       "      <th>4</th>\n",
       "      <td>1.989536</td>\n",
       "      <td>NaN</td>\n",
       "      <td>NaN</td>\n",
       "      <td>NaN</td>\n",
       "      <td>NaN</td>\n",
       "      <td>1.0</td>\n",
       "      <td>0.00</td>\n",
       "      <td>NaN</td>\n",
       "      <td>NaN</td>\n",
       "    </tr>\n",
       "    <tr>\n",
       "      <th>5</th>\n",
       "      <td>1.996318</td>\n",
       "      <td>NaN</td>\n",
       "      <td>NaN</td>\n",
       "      <td>NaN</td>\n",
       "      <td>NaN</td>\n",
       "      <td>0.0</td>\n",
       "      <td>NaN</td>\n",
       "      <td>NaN</td>\n",
       "      <td>NaN</td>\n",
       "    </tr>\n",
       "    <tr>\n",
       "      <th>6</th>\n",
       "      <td>2.003333</td>\n",
       "      <td>NaN</td>\n",
       "      <td>NaN</td>\n",
       "      <td>NaN</td>\n",
       "      <td>NaN</td>\n",
       "      <td>1.0</td>\n",
       "      <td>0.05</td>\n",
       "      <td>NaN</td>\n",
       "      <td>NaN</td>\n",
       "    </tr>\n",
       "    <tr>\n",
       "      <th>7</th>\n",
       "      <td>2.010097</td>\n",
       "      <td>NaN</td>\n",
       "      <td>NaN</td>\n",
       "      <td>NaN</td>\n",
       "      <td>NaN</td>\n",
       "      <td>0.0</td>\n",
       "      <td>NaN</td>\n",
       "      <td>NaN</td>\n",
       "      <td>NaN</td>\n",
       "    </tr>\n",
       "  </tbody>\n",
       "</table>\n",
       "</div>"
      ],
      "text/plain": [
       "   Latest: Time (s)  Latest: GateState 1  Latest: Distance 1 (m)  \\\n",
       "0          1.881494                  1.0                    0.00   \n",
       "1          1.888620                  0.0                     NaN   \n",
       "2          1.896879                  1.0                    0.05   \n",
       "3          1.903849                  0.0                     NaN   \n",
       "4          1.989536                  NaN                     NaN   \n",
       "5          1.996318                  NaN                     NaN   \n",
       "6          2.003333                  NaN                     NaN   \n",
       "7          2.010097                  NaN                     NaN   \n",
       "\n",
       "   Latest: Velocity 1 (m/s)  Latest: Acceleration 1 (m/s²)  \\\n",
       "0                       NaN                            NaN   \n",
       "1                       NaN                            NaN   \n",
       "2                       NaN                            NaN   \n",
       "3                       NaN                            NaN   \n",
       "4                       NaN                            NaN   \n",
       "5                       NaN                            NaN   \n",
       "6                       NaN                            NaN   \n",
       "7                       NaN                            NaN   \n",
       "\n",
       "   Latest: GateState 2  Latest: Distance 2 (m)  Latest: Velocity 2 (m/s)  \\\n",
       "0                  NaN                     NaN                       NaN   \n",
       "1                  NaN                     NaN                       NaN   \n",
       "2                  NaN                     NaN                       NaN   \n",
       "3                  NaN                     NaN                       NaN   \n",
       "4                  1.0                    0.00                       NaN   \n",
       "5                  0.0                     NaN                       NaN   \n",
       "6                  1.0                    0.05                       NaN   \n",
       "7                  0.0                     NaN                       NaN   \n",
       "\n",
       "   Latest: Acceleration 2 (m/s²)  \n",
       "0                            NaN  \n",
       "1                            NaN  \n",
       "2                            NaN  \n",
       "3                            NaN  \n",
       "4                            NaN  \n",
       "5                            NaN  \n",
       "6                            NaN  \n",
       "7                            NaN  "
      ]
     },
     "execution_count": 5,
     "metadata": {},
     "output_type": "execute_result"
    }
   ],
   "source": [
    "df"
   ]
  },
  {
   "cell_type": "code",
   "execution_count": 6,
   "id": "04dd2111-2902-4718-8a86-ee4a60c96724",
   "metadata": {},
   "outputs": [
    {
     "data": {
      "text/plain": [
       "0.28439794663419493"
      ]
     },
     "execution_count": 6,
     "metadata": {},
     "output_type": "execute_result"
    }
   ],
   "source": [
    "(1e-2/(2.010097-2.003333) - 1e-2/(1.996318-1.989536))/(2.003333-1.989536)"
   ]
  },
  {
   "cell_type": "code",
   "execution_count": 7,
   "id": "b31c802e-ac52-4fa8-9dfb-81ea75ae6ba2",
   "metadata": {},
   "outputs": [
    {
     "data": {
      "image/png": "[encoded data removed]",
      "text/plain": [
       "<Figure size 640x480 with 1 Axes>"
      ]
     },
     "metadata": {},
     "output_type": "display_data"
    }
   ],
   "source": [
    "masses = [\n",
    "        [217.3,20],\n",
    "        [217.3,30.3],\n",
    "        [217.3,48.7],\n",
    "        [317.3,68.8],\n",
    "        [317.5,88.9],\n",
    "        [317.5,20]\n",
    "    ]\n",
    "\n",
    "dm = 0.1\n",
    "dM = 0.1\n",
    "\n",
    "g_values = []\n",
    "a_values = []\n",
    "m_values = []\n",
    "\n",
    "for i in range(1,7):\n",
    "\n",
    "    number = i\n",
    "    \n",
    "    df = pd.read_csv(f\"../data/partB/try{number}.csv\")\n",
    "    \n",
    "    l = 1e-2\n",
    "    start1 = 0\n",
    "    stop1 = 1\n",
    "    start2 = 2\n",
    "    stop2 = 3\n",
    "    v1 = l/(df[names['t']][stop1]-df[names['t']][start1])\n",
    "    v2 = l/(df[names['t']][stop2]-df[names['t']][start2])\n",
    "    dt1 = df[names['t']][start2]-df[names['t']][start1]\n",
    "    \n",
    "    start3 = 4\n",
    "    stop3 = 5\n",
    "    start4 = 6\n",
    "    stop4 = 7\n",
    "    v3 = l/(df[names['t']][stop3]-df[names['t']][start3])\n",
    "    v4 = l/(df[names['t']][stop4]-df[names['t']][start4])\n",
    "    dt2 = df[names['t']][start4]-df[names['t']][start3]\n",
    "    \n",
    "    a1 = (v2-v1)/dt1\n",
    "    a2 = (v4-v3)/dt2\n",
    "    M = masses[number-1][0]\n",
    "    m = masses[number-1][1]\n",
    "\n",
    "    m_values.append(m/(M+m))\n",
    "    \n",
    "    g1 = ((M+m)/m)*a1\n",
    "    g2 = ((M+m)/m)*a2\n",
    "\n",
    "    # error analysis\n",
    "    dg_da = (M + m) / m\n",
    "    dg_dM1 = a1 / m\n",
    "    dg_dm1 = -a1 * M / (m ** 2)\n",
    "    dg_dM2 = a2 / m\n",
    "    dg_dm2 = -a2 * M / (m ** 2)\n",
    "\n",
    "    da = 0.1\n",
    "\n",
    "    dg1 = np.sqrt((dg_da * da)**2 + (dg_dM1 * dM)**2 + (dg_dm1 * dm)**2)\n",
    "    dg2 = np.sqrt((dg_da * da)**2 + (dg_dM1 * dM)**2 + (dg_dm1 * dm)**2)\n",
    "\n",
    "    if g1 > 8:\n",
    "        plt.scatter(number,g1,color='red',label='data')\n",
    "        # g_values.append(g1)\n",
    "    if g2 > 8:\n",
    "        plt.scatter(number,g2,color='red',label='data')\n",
    "        g_values.append((g1+g2)/2)\n",
    "        a_values.append((a1+a2)/2)\n",
    "    else:\n",
    "        g_values.append(g1)\n",
    "        a_values.append(a1)\n",
    "        \n",
    "\n",
    "plt.xlabel('attempt')\n",
    "plt.ylabel('g (m/s^2)')\n",
    "plt.axhline(9.79,label='true g')\n",
    "handles, labels = plt.gca().get_legend_handles_labels()\n",
    "by_label = dict(zip(labels, handles))\n",
    "plt.legend(by_label.values(), by_label.keys())\n",
    "plt.ylim(0,11)\n",
    "plt.show()"
   ]
  },
  {
   "cell_type": "code",
   "execution_count": 14,
   "id": "4c747390-a6fa-4591-a915-67da97ea846d",
   "metadata": {},
   "outputs": [
    {
     "data": {
      "image/png": "[encoded data removed]",
      "text/plain": [
       "<Figure size 640x480 with 1 Axes>"
      ]
     },
     "metadata": {},
     "output_type": "display_data"
    },
    {
     "name": "stdout",
     "output_type": "stream",
     "text": [
      "9.546997705267934\n"
     ]
    },
    {
     "data": {
      "text/plain": [
       "(10.060852054482682, -0.05271983044410744)"
      ]
     },
     "execution_count": 14,
     "metadata": {},
     "output_type": "execute_result"
    }
   ],
   "source": [
    "m_values = np.array(m_values)\n",
    "a_values = np.array(a_values)\n",
    "g_values = np.array(g_values)\n",
    "plt.scatter(m_values,a_values,color='red',label='data')\n",
    "plt.xlabel('m/(M+m)')\n",
    "plt.ylabel('a (m/s^2)')\n",
    "m,c = np.polyfit(m_values,a_values,1)\n",
    "plt.plot(m_values,m*m_values+c,color='blue',label=f'{round(m,2)}x - {round(abs(c),2)}')\n",
    "plt.legend()\n",
    "plt.show()\n",
    "print(np.mean(g_values))\n",
    "m,c"
   ]
  },
  {
   "cell_type": "code",
   "execution_count": 15,
   "id": "f53e8514-8753-4764-972c-127e35a8ef7d",
   "metadata": {},
   "outputs": [
    {
     "name": "stdout",
     "output_type": "stream",
     "text": [
      "-2.482148056507305 for mean\n",
      "2.7579162410623224 for line\n"
     ]
    }
   ],
   "source": [
    "print(100*(9.546997705267934-9.79)/9.79, 'for mean')\n",
    "print(100*(10.06-9.79)/9.79, 'for line')"
   ]
  },
  {
   "cell_type": "code",
   "execution_count": null,
   "id": "1f7cb84a-62ca-4cce-a889-c8c4067332d0",
   "metadata": {},
   "outputs": [],
   "source": []
  },
  {
   "cell_type": "code",
   "execution_count": null,
   "id": "57547abd-efeb-4d62-ad08-90bc7d96df8a",
   "metadata": {},
   "outputs": [],
   "source": []
  }
 ],
 "metadata": {
  "kernelspec": {
   "display_name": "Python 3 (ipykernel)",
   "language": "python",
   "name": "python3"
  },
  "language_info": {
   "codemirror_mode": {
    "name": "ipython",
    "version": 3
   },
   "file_extension": ".py",
   "mimetype": "text/x-python",
   "name": "python",
   "nbconvert_exporter": "python",
   "pygments_lexer": "ipython3",
   "version": "3.10.13"
  }
 },
 "nbformat": 4,
 "nbformat_minor": 5
}
